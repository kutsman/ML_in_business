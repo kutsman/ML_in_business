{
 "cells": [
  {
   "cell_type": "markdown",
   "id": "8213f52a",
   "metadata": {
    "id": "mCvG3HpmbRKo"
   },
   "source": [
    "Строим запрос к нашему сервису"
   ]
  },
  {
   "cell_type": "code",
   "execution_count": 1,
   "id": "c4f1a504",
   "metadata": {},
   "outputs": [],
   "source": [
    "import requests"
   ]
  },
  {
   "cell_type": "code",
   "execution_count": 2,
   "id": "17711728",
   "metadata": {
    "id": "Cxm28pii80xp"
   },
   "outputs": [],
   "source": [
    "import urllib.request\n",
    "import json "
   ]
  },
  {
   "cell_type": "code",
   "execution_count": 15,
   "id": "8ee61c70",
   "metadata": {
    "id": "EWP3BCM6OBXv"
   },
   "outputs": [],
   "source": [
    "# Пример данных\n",
    "data = ( \n",
    "    '1',#HighBP\n",
    "    '1',#HighChol    \n",
    "    '1',#CholCheck\n",
    "    '1',#Smoker\n",
    "    '1',#Stroke\n",
    "    '2',#Diabetes\n",
    "    '0',#PhysActivity\n",
    "    '0',#Fruits\n",
    "    '0',#Veggies\n",
    "    '0',#HvyAlcoholConsump\n",
    "    '0',#AnyHealthcar\n",
    "    '0',#NoDocbcCost\n",
    "    '0',#GenHlth\n",
    "    '0',#DiffWalk\n",
    "    '0',#Sex\n",
    "    '5',#Education\n",
    "    '0',#Income, \n",
    "    '0',#Age BMI\n",
    "    '0',#MentHlth\n",
    "    '0' #BMI\n",
    ")"
   ]
  },
  {
   "cell_type": "code",
   "execution_count": 16,
   "id": "889afefc",
   "metadata": {},
   "outputs": [],
   "source": [
    "import numpy as np"
   ]
  },
  {
   "cell_type": "code",
   "execution_count": 17,
   "id": "73967913",
   "metadata": {
    "id": "J_xtPIQt8toy"
   },
   "outputs": [],
   "source": [
    "# формируем запрос\n",
    "def send_json(x):\n",
    "    HighBP, HighChol, CholCheck, Smoker, Stroke, Diabetes, PhysActivity, Fruits, Veggies, HvyAlcoholConsump, AnyHealthcare, NoDocbcCost, GenHlth, DiffWalk, Sex, Education, Income, Age, MentHlth, BMI = x\n",
    "    #print(HighBP, HighChol, CholCheck, Smoker, Stroke, Diabetes, PhysActivity, Fruits, Veggies, HvyAlcoholConsump, AnyHealthcare, NoDocbcCost, GenHlth, DiffWalk, Sex, Education, Income, Age, MentHlth, BMI)\n",
    "    body = {           \n",
    "        'HighBP': HighBP, \n",
    "        'HighChol': HighChol,\n",
    "        'CholCheck': CholCheck,\n",
    "        'Smoker':Smoker,\n",
    "        'Stroke':Stroke,\n",
    "        'Diabetes':Diabetes,\n",
    "        'PhysActivity':PhysActivity,\n",
    "        'Fruits':Fruits,\n",
    "        'Veggies':Veggies,\n",
    "        'HvyAlcoholConsump':HvyAlcoholConsump,\n",
    "        'AnyHealthcare':AnyHealthcare,\n",
    "        'NoDocbcCost':NoDocbcCost,\n",
    "        'GenHlth':GenHlth,\n",
    "        'DiffWalk':DiffWalk,\n",
    "        'Sex':Sex,\n",
    "        'Education':Education,\n",
    "        'Income':Income,\n",
    "        'Age':Age,\n",
    "        'MentHlth':MentHlth,\n",
    "        'BMI':BMI\n",
    "        }\n",
    "    print(f'Введенные данные по клиенту: {body}')\n",
    "    myurl = 'http://127.0.0.1:8082/' + '/predict'\n",
    "    print(f'Куда делаем запрос: {myurl}')\n",
    "    headers = {'content-type': 'application/json; charset=utf-8'}\n",
    "    response = requests.post(myurl, json=body, headers=headers)\n",
    "    return response"
   ]
  },
  {
   "cell_type": "code",
   "execution_count": 18,
   "id": "883c92bc",
   "metadata": {
    "colab": {
     "base_uri": "https://localhost:8080/"
    },
    "id": "OehA49hRN_pU",
    "outputId": "9aad034b-84c6-44c0-dfc2-1abff5f42ffe",
    "scrolled": false
   },
   "outputs": [
    {
     "name": "stdout",
     "output_type": "stream",
     "text": [
      "Введенные данные по клиенту: {'HighBP': '1', 'HighChol': '1', 'CholCheck': '1', 'Smoker': '1', 'Stroke': '1', 'Diabetes': '2', 'PhysActivity': '0', 'Fruits': '0', 'Veggies': '0', 'HvyAlcoholConsump': '0', 'AnyHealthcare': '0', 'NoDocbcCost': '0', 'GenHlth': '0', 'DiffWalk': '0', 'Sex': '0', 'Education': '5', 'Income': '0', 'Age': '0', 'MentHlth': '0', 'BMI': '0'}\n",
      "Куда делаем запрос: http://127.0.0.1:8082//predict\n",
      "Результат предсказания HeartAttack 0.9096252918243408\n"
     ]
    }
   ],
   "source": [
    "# обращение к серверу с запросом из одного набора (его построили руками выше - data)\n",
    "response = send_json(data)\n",
    "print('Результат предсказания HeartAttack', response.json()['predictions'])"
   ]
  },
  {
   "cell_type": "code",
   "execution_count": null,
   "id": "055339db",
   "metadata": {},
   "outputs": [],
   "source": []
  }
 ],
 "metadata": {
  "kernelspec": {
   "display_name": "Python 3 (ipykernel)",
   "language": "python",
   "name": "python3"
  },
  "language_info": {
   "codemirror_mode": {
    "name": "ipython",
    "version": 3
   },
   "file_extension": ".py",
   "mimetype": "text/x-python",
   "name": "python",
   "nbconvert_exporter": "python",
   "pygments_lexer": "ipython3",
   "version": "3.8.10"
  }
 },
 "nbformat": 4,
 "nbformat_minor": 5
}
